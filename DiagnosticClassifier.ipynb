{
 "cells": [
  {
   "cell_type": "code",
   "execution_count": null,
   "metadata": {
    "collapsed": true
   },
   "outputs": [],
   "source": [
    "import numpy as np\n",
    "import torch\n",
    "import matplotlib.pyplot as plt\n",
    "import seaborn as sns\n",
    "import textwrap\n",
    "import re\n",
    "import pynlpir\n",
    "pynlpir.open()\n",
    "from sklearn import metrics\n",
    "\n",
    "from helpers import *\n",
    "from generate import *\n",
    "from diagnostic import *\n",
    "\n",
    "from sklearn.linear_model import LinearRegression\n",
    "from sklearn.linear_model import LogisticRegression\n",
    "from sklearn.linear_model import Ridge"
   ]
  },
  {
   "cell_type": "markdown",
   "metadata": {},
   "source": [
    "### Import model"
   ]
  },
  {
   "cell_type": "code",
   "execution_count": null,
   "metadata": {},
   "outputs": [],
   "source": [
    "model = torch.load('models/linux_3x512_0d3_gru_200l_40000E.model').cuda()\n",
    "print(np.mean([test_model(model, 'data/linux/test.txt') for _ in range(10)]))"
   ]
  },
  {
   "cell_type": "markdown",
   "metadata": {},
   "source": [
    "### Generate text"
   ]
  },
  {
   "cell_type": "code",
   "execution_count": null,
   "metadata": {},
   "outputs": [],
   "source": [
    "text, hiddens = generate(model, '\\n\\n', 500, 0.8, True, output_hiddens=True)\n",
    "print(text)"
   ]
  },
  {
   "cell_type": "markdown",
   "metadata": {},
   "source": [
    "### Define hypotheses"
   ]
  },
  {
   "cell_type": "code",
   "execution_count": 1,
   "metadata": {},
   "outputs": [
    {
     "ename": "NameError",
     "evalue": "name 'plot_colored_text' is not defined",
     "output_type": "error",
     "traceback": [
      "\u001b[0;31m---------------------------------------------------------------------------\u001b[0m",
      "\u001b[0;31mNameError\u001b[0m                                 Traceback (most recent call last)",
      "\u001b[0;32m<ipython-input-1-df8bb98cc6ec>\u001b[0m in \u001b[0;36m<module>\u001b[0;34m()\u001b[0m\n\u001b[1;32m      3\u001b[0m     \u001b[0;32mreturn\u001b[0m \u001b[0mhyp\u001b[0m\u001b[0;34m\u001b[0m\u001b[0m\n\u001b[1;32m      4\u001b[0m \u001b[0;34m\u001b[0m\u001b[0m\n\u001b[0;32m----> 5\u001b[0;31m \u001b[0mplot_colored_text\u001b[0m\u001b[0;34m(\u001b[0m\u001b[0mtext\u001b[0m\u001b[0;34m,\u001b[0m \u001b[0mhypothesis_comment\u001b[0m\u001b[0;34m(\u001b[0m\u001b[0mtext\u001b[0m\u001b[0;34m)\u001b[0m\u001b[0;34m,\u001b[0m \u001b[0mtitle\u001b[0m\u001b[0;34m=\u001b[0m\u001b[0;34m'Hypothesis: Comments'\u001b[0m\u001b[0;34m,\u001b[0m \u001b[0msave_file\u001b[0m\u001b[0;34m=\u001b[0m\u001b[0;34m'plots/hyp_comments.png'\u001b[0m\u001b[0;34m)\u001b[0m\u001b[0;34m\u001b[0m\u001b[0m\n\u001b[0m",
      "\u001b[0;31mNameError\u001b[0m: name 'plot_colored_text' is not defined"
     ]
    }
   ],
   "source": [
    "def hypothesis_comment(text):\n",
    "    hyp = zeros(len(text))\n",
    "    return hyp\n",
    "    \n",
    "plot_colored_text(text, hypothesis_comment(text), title='Hypothesis: Comments', save_file='plots/hyp_comments.png')"
   ]
  },
  {
   "cell_type": "markdown",
   "metadata": {},
   "source": [
    "### Hypothesis Validation using Diagnostic Classifier"
   ]
  },
  {
   "cell_type": "code",
   "execution_count": null,
   "metadata": {
    "collapsed": true
   },
   "outputs": [],
   "source": [
    "def hypothesis_inlinecounter(text):\n",
    "    hyp = np.concatenate([np.linspace(1, -1, len(x)+1) for x in text.split('\\n')])[:-1]\n",
    "    return hyp\n",
    "\n",
    "def hypothesis_capswords(text):\n",
    "    hyp = np.concatenate([np.full(len(x)+1, 1) if re.sub('[^a-zA-Z]+', '', x).isupper() else np.full(len(x)+1, -1) for x in text.split('\\n')])[:-1]\n",
    "    return hyp\n",
    "\n",
    "def hypothesis_pos(text, pos_tag):\n",
    "    hyp = text.replace('1', '0')\n",
    "    for word, tag in pynlpir.segment(text):\n",
    "        if tag == pos_tag:\n",
    "            hyp = hyp.replace(word, '1'*len(word), 1)\n",
    "        else:\n",
    "            hyp = hyp.replace(word, '0'*len(word), 1)\n",
    "    hyp = [1 if x=='1' else -1 for x in re.sub('[^1]', '0', hyp)]\n",
    "    \n",
    "    return hyp\n",
    "\n",
    "def hypothesis_verbs(text):\n",
    "    return hypothesis_pos(text, 'verb')\n",
    "\n",
    "def hypothesis_nouns(text):\n",
    "    return hypothesis_pos(text, 'noun')"
   ]
  },
  {
   "cell_type": "code",
   "execution_count": null,
   "metadata": {
    "scrolled": false
   },
   "outputs": [],
   "source": [
    "plot_colored_text(text, hypothesis_inlinecounter(text), title='Hypothesis: Inline Counter', save_file='plots/hyp_inlinecounter.png')\n",
    "plot_colored_text(text, hypothesis_capswords(text), title='Hypothesis: Capitalized Words', save_file='plots/hyp_capswords.png')\n",
    "plot_colored_text(text, hypothesis_verbs(text), title='Hypothesis: Verbs', save_file='plots/hyp_verbs')\n",
    "plot_colored_text(text, hypothesis_nouns(text), title='Hypothesis: Nouns', save_file='plots/hyp_nouns')"
   ]
  },
  {
   "cell_type": "code",
   "execution_count": null,
   "metadata": {
    "scrolled": false
   },
   "outputs": [],
   "source": [
    "y_true, y_pred = validate_hypothesis(model, LinearRegression(), hypothesis_inlinecounter)\n",
    "y_true, y_pred = validate_hypothesis(model, LogisticRegression(), hypothesis_capswords)\n",
    "print('acc:      ', metrics.accuracy_score(y_true, y_pred))\n",
    "print('prec:     ', metrics.precision_score(y_true, y_pred))\n",
    "print('recall:   ', metrics.recall_score(y_true, y_pred))\n",
    "print('f1-score: ', metrics.f1_score(y_true, y_pred))"
   ]
  },
  {
   "cell_type": "code",
   "execution_count": null,
   "metadata": {},
   "outputs": [],
   "source": [
    "y_true, y_pred = validate_hypothesis(model, LogisticRegression(), hypothesis_nouns)\n",
    "print('acc:      ', metrics.accuracy_score(y_true, y_pred))\n",
    "print('prec:     ', metrics.precision_score(y_true, y_pred))\n",
    "print('recall:   ', metrics.recall_score(y_true, y_pred))\n",
    "print('f1-score: ', metrics.f1_score(y_true, y_pred))"
   ]
  },
  {
   "cell_type": "code",
   "execution_count": null,
   "metadata": {},
   "outputs": [],
   "source": [
    "y_true, y_pred = validate_hypothesis(model, LogisticRegression(), hypothesis_verbs)\n",
    "print('acc:      ', metrics.accuracy_score(y_true, y_pred))\n",
    "print('prec:     ', metrics.precision_score(y_true, y_pred))\n",
    "print('recall:   ', metrics.recall_score(y_true, y_pred))\n",
    "print('f1-score: ', metrics.f1_score(y_true, y_pred))"
   ]
  },
  {
   "cell_type": "code",
   "execution_count": null,
   "metadata": {
    "collapsed": true
   },
   "outputs": [],
   "source": []
  },
  {
   "cell_type": "code",
   "execution_count": null,
   "metadata": {
    "collapsed": true
   },
   "outputs": [],
   "source": []
  }
 ],
 "metadata": {
  "kernelspec": {
   "display_name": "Python 3",
   "language": "python",
   "name": "python3"
  },
  "language_info": {
   "codemirror_mode": {
    "name": "ipython",
    "version": 3
   },
   "file_extension": ".py",
   "mimetype": "text/x-python",
   "name": "python",
   "nbconvert_exporter": "python",
   "pygments_lexer": "ipython3",
   "version": "3.6.3"
  }
 },
 "nbformat": 4,
 "nbformat_minor": 2
}
