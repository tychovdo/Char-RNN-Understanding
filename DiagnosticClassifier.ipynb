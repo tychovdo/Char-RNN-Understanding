{
 "cells": [
  {
   "cell_type": "code",
   "execution_count": 1,
   "metadata": {
    "collapsed": true
   },
   "outputs": [],
   "source": [
    "import numpy as np\n",
    "import torch\n",
    "import matplotlib.pyplot as plt\n",
    "import seaborn as sns\n",
    "import textwrap\n",
    "import re\n",
    "import pynlpir\n",
    "pynlpir.open()\n",
    "from sklearn import metrics\n",
    "\n",
    "from helpers import *\n",
    "from generate import *\n",
    "from sklearn.linear_model import LinearRegression\n",
    "from sklearn.linear_model import LogisticRegression\n",
    "from sklearn.linear_model import Ridge"
   ]
  },
  {
   "cell_type": "markdown",
   "metadata": {},
   "source": [
    "### Import model"
   ]
  },
  {
   "cell_type": "code",
   "execution_count": 2,
   "metadata": {
    "collapsed": true
   },
   "outputs": [],
   "source": [
    "model = torch.load('models/simple.model').cuda()"
   ]
  },
  {
   "cell_type": "code",
   "execution_count": 4,
   "metadata": {},
   "outputs": [],
   "source": [
    "# Test model\n",
    "test_file = unidecode.unidecode(open('data/linux/test.txt', encoding='utf-8', errors='ignore').read())"
   ]
  },
  {
   "cell_type": "markdown",
   "metadata": {},
   "source": [
    "### Generate text"
   ]
  },
  {
   "cell_type": "code",
   "execution_count": null,
   "metadata": {
    "collapsed": true
   },
   "outputs": [],
   "source": [
    "text, hiddens = generate(model, '\\n\\n', 500, 0.8, True, output_hiddens=True)"
   ]
  },
  {
   "cell_type": "markdown",
   "metadata": {},
   "source": [
    "### Define hypotheses"
   ]
  },
  {
   "cell_type": "code",
   "execution_count": null,
   "metadata": {
    "collapsed": true
   },
   "outputs": [],
   "source": [
    "def hypothesis_inlinecounter(text):\n",
    "    hyp = np.concatenate([np.linspace(1, -1, len(x)+1) for x in text.split('\\n')])[:-1]\n",
    "    return hyp\n",
    "\n",
    "def hypothesis_capswords(text):\n",
    "    hyp = np.concatenate([np.full(len(x)+1, 1) if re.sub('[^a-zA-Z]+', '', x).isupper() else np.full(len(x)+1, -1) for x in text.split('\\n')])[:-1]\n",
    "    return hyp\n",
    "\n",
    "def hypothesis_pos(text, pos_tag):\n",
    "    hyp = text.replace('1', '0')\n",
    "    for word, tag in pynlpir.segment(text):\n",
    "        if tag == pos_tag:\n",
    "            hyp = hyp.replace(word, '1'*len(word), 1)\n",
    "        else:\n",
    "            hyp = hyp.replace(word, '0'*len(word), 1)\n",
    "    hyp = [1 if x=='1' else -1 for x in re.sub('[^1]', '0', hyp)]\n",
    "    \n",
    "    return hyp\n",
    "\n",
    "def hypothesis_verbs(text):\n",
    "    return hypothesis_pos(text, 'verb')\n",
    "\n",
    "def hypothesis_nouns(text):\n",
    "    return hypothesis_pos(text, 'noun')"
   ]
  },
  {
   "cell_type": "code",
   "execution_count": null,
   "metadata": {
    "collapsed": true,
    "scrolled": false
   },
   "outputs": [],
   "source": [
    "plot_colored_text(text, hypothesis_inlinecounter(text), title='Hypothesis: Inline Counter', save_file='plots/hyp_inlinecounter.png')\n",
    "plot_colored_text(text, hypothesis_capswords(text), title='Hypothesis: Capitalized Words', save_file='plots/hyp_capswords.png')\n",
    "plot_colored_text(text, hypothesis_verbs(text), title='Hypothesis: Verbs', save_file='plots/hyp_verbs')\n",
    "plot_colored_text(text, hypothesis_nouns(text), title='Hypothesis: Nouns', save_file='plots/hyp_nouns')"
   ]
  },
  {
   "cell_type": "markdown",
   "metadata": {},
   "source": [
    "### Hypothesis Validation using Diagnostic Classifier"
   ]
  },
  {
   "cell_type": "code",
   "execution_count": null,
   "metadata": {
    "collapsed": true,
    "scrolled": false
   },
   "outputs": [],
   "source": [
    "def validate_hypothesis(model, diag_classifier, hypothesis, train_len=50, test_len=1, text_len=500, temperature=0.8, plot=True):\n",
    "    # Generate hypothesis data\n",
    "    def gen_hyp_data(model, N, text_len=500):\n",
    "        texts, hiddens, hyps = [], [], []\n",
    "        for i in range(N):\n",
    "            text, hidden = generate(model, '\\n\\n', text_len,\n",
    "                                    temperature, True, output_hiddens=True)\n",
    "            hidden = hidden.reshape(hidden.shape[0], -1)\n",
    "            hyp = hypothesis(text)\n",
    "            hiddens.append(hidden)\n",
    "            hyps.append(hyp)\n",
    "            texts.append(text)\n",
    "        return ''.join(texts), np.concatenate(hyps), np.concatenate(hiddens)\n",
    "\n",
    "    # Generate train and test data\n",
    "    _, train_hyps, train_hiddens = gen_hyp_data(model, train_len)\n",
    "    test_texts, test_hyps, test_hiddens = gen_hyp_data(model, test_len)\n",
    "\n",
    "    # Train Diagnostic Classifier\n",
    "    diag_classifier.fit(train_hiddens, train_hyps)\n",
    "    \n",
    "    # Predict with Diagnostic Classifier\n",
    "    pred_hyps = diag_classifier.predict(test_hiddens)\n",
    "    \n",
    "    # Plot result\n",
    "    if plot:\n",
    "        plot_colored_text(test_texts[:text_len], test_hyps[:text_len], title='Formed Hypothesis')\n",
    "        plot_colored_text(test_texts[:text_len], pred_hyps[:text_len], title='Diagnostic Classifier Prediction')\n",
    "    \n",
    "    return test_hyps, pred_hyps"
   ]
  },
  {
   "cell_type": "code",
   "execution_count": null,
   "metadata": {
    "collapsed": true,
    "scrolled": false
   },
   "outputs": [],
   "source": [
    "y_true, y_pred = validate_hypothesis(model, LinearRegression(), hypothesis_inlinecounter)\n",
    "y_true, y_pred = validate_hypothesis(model, LogisticRegression(), hypothesis_capswords)\n",
    "print('acc:      ', metrics.accuracy_score(y_true, y_pred))\n",
    "print('prec:     ', metrics.precision_score(y_true, y_pred))\n",
    "print('recall:   ', metrics.recall_score(y_true, y_pred))\n",
    "print('f1-score: ', metrics.f1_score(y_true, y_pred))"
   ]
  },
  {
   "cell_type": "code",
   "execution_count": null,
   "metadata": {
    "collapsed": true
   },
   "outputs": [],
   "source": [
    "y_true, y_pred = validate_hypothesis(model, LogisticRegression(), hypothesis_nouns)\n",
    "print('acc:      ', metrics.accuracy_score(y_true, y_pred))\n",
    "print('prec:     ', metrics.precision_score(y_true, y_pred))\n",
    "print('recall:   ', metrics.recall_score(y_true, y_pred))\n",
    "print('f1-score: ', metrics.f1_score(y_true, y_pred))"
   ]
  },
  {
   "cell_type": "code",
   "execution_count": null,
   "metadata": {
    "collapsed": true
   },
   "outputs": [],
   "source": [
    "y_true, y_pred = validate_hypothesis(model, LogisticRegression(), hypothesis_verbs)\n",
    "print('acc:      ', metrics.accuracy_score(y_true, y_pred))\n",
    "print('prec:     ', metrics.precision_score(y_true, y_pred))\n",
    "print('recall:   ', metrics.recall_score(y_true, y_pred))\n",
    "print('f1-score: ', metrics.f1_score(y_true, y_pred))"
   ]
  },
  {
   "cell_type": "code",
   "execution_count": null,
   "metadata": {
    "collapsed": true
   },
   "outputs": [],
   "source": []
  },
  {
   "cell_type": "code",
   "execution_count": null,
   "metadata": {
    "collapsed": true
   },
   "outputs": [],
   "source": []
  }
 ],
 "metadata": {
  "kernelspec": {
   "display_name": "Python 3",
   "language": "python",
   "name": "python3"
  },
  "language_info": {
   "codemirror_mode": {
    "name": "ipython",
    "version": 3
   },
   "file_extension": ".py",
   "mimetype": "text/x-python",
   "name": "python",
   "nbconvert_exporter": "python",
   "pygments_lexer": "ipython3",
   "version": "3.6.3"
  }
 },
 "nbformat": 4,
 "nbformat_minor": 2
}
