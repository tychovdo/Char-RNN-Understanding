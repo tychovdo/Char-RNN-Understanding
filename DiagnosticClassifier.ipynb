{
 "cells": [
  {
   "cell_type": "code",
   "execution_count": 1,
   "metadata": {
    "collapsed": true
   },
   "outputs": [],
   "source": [
    "import numpy as np\n",
    "import torch\n",
    "import matplotlib.pyplot as plt\n",
    "import seaborn as sns\n",
    "import textwrap\n",
    "import re\n",
    "import pynlpir\n",
    "pynlpir.open()\n",
    "from sklearn import metrics\n",
    "\n",
    "from generate import *\n",
    "from sklearn.linear_model import LinearRegression\n",
    "from sklearn.linear_model import LogisticRegression\n",
    "from sklearn.linear_model import Ridge"
   ]
  },
  {
   "cell_type": "markdown",
   "metadata": {},
   "source": [
    "### Load model"
   ]
  },
  {
   "cell_type": "code",
   "execution_count": 2,
   "metadata": {
    "collapsed": true
   },
   "outputs": [],
   "source": [
    "# model = torch.load('models/linux_2_3x512_0d2_gru_50l_20000_E2000').cuda()\n",
    "model = torch.load('models/all.txt.model').cuda()"
   ]
  },
  {
   "cell_type": "markdown",
   "metadata": {},
   "source": [
    "### Helper functions"
   ]
  },
  {
   "cell_type": "code",
   "execution_count": 3,
   "metadata": {
    "collapsed": true
   },
   "outputs": [],
   "source": [
    "def wrap_colored_output(text, colors, W=20):\n",
    "    ''' Wrap text with hidden units to certain width '''\n",
    "    new_text, new_colors = [], []\n",
    "    for char, color in zip(text, colors):\n",
    "        new_text.append(char)\n",
    "        new_colors.append(color)\n",
    "        if char == '\\n':\n",
    "            for i in range(W - len(new_text) % W):\n",
    "                new_text.append(' ')\n",
    "                new_colors.append(np.zeros_like(colors[0]))\n",
    "    for i in range(W - len(new_text) % W):\n",
    "        new_text.append(' ')\n",
    "        new_colors.append(np.zeros_like(colors[0]))\n",
    "    \n",
    "    return np.array(new_text).reshape(-1, W), np.array(new_colors).reshape(-1, W)"
   ]
  },
  {
   "cell_type": "code",
   "execution_count": 4,
   "metadata": {
    "collapsed": true,
    "scrolled": false
   },
   "outputs": [],
   "source": [
    "def plot_colored_text(text, colors, W=60, title=None, save_file=None):\n",
    "    wrapped_text, wrapped_colors = wrap_colored_output(text, colors, W=W)\n",
    "    \n",
    "    H = len(wrapped_text)\n",
    "    plt.figure(figsize=(W/5, H/3))\n",
    "    sns.heatmap(wrapped_colors, annot=wrapped_text, fmt='s',\n",
    "                cbar=False, cmap='coolwarm', vmin=-1, vmax=1)\n",
    "    plt.xticks([])\n",
    "    plt.yticks([])\n",
    "    plt.title(title)\n",
    "    if save_file:\n",
    "        plt.savefig(save_file)\n",
    "    plt.show()"
   ]
  },
  {
   "cell_type": "code",
   "execution_count": 7,
   "metadata": {},
   "outputs": [
    {
     "name": "stdout",
     "output_type": "stream",
     "text": [
      "\n",
      "\n",
      "static struct sc_ctl_usm_butform_dw_head_path_device *dev_process,\n",
      "\tmock_port_attr(struct got_drm_device);\n",
      "\n",
      "\ttask_sh_kdop_alfo(unsigned long long skb_failtor;\n",
      "\n",
      "\tif (max_error == HIDER_DISABLED;\n",
      "\t\t}\n",
      "\n",
      "\treturn err;\n",
      "\t} else if (pc_status.index]) {\n",
      "\t\treturn 0;\n",
      "}\n",
      "\n",
      "static int snd_mode(prev);\n",
      "\n",
      "\t/* The release be mapping to the Fail the mask bit is remove params athia source it update intreamings */\n",
      "\tu8 priv->cxt_start\t\t= tI_table_enable;\n",
      "\t\t\ttcpe_lock(&pi->reserved: item->mode_size; i++) {\n",
      "\t\tconfigure_ty\n",
      "static struct sc_ctl_usm_butform_dw_head_path_device *dev_process,\n",
      "\tmock_port_attr(struct got_drm_device);\n",
      "\n",
      "\ttask_sh_kdop_alfo(unsigned long long skb_failtor;\n",
      "\n",
      "\tif (max_error == HIDER_DISABLED;\n",
      "\t\t}\n",
      "\n",
      "\treturn err;\n",
      "\t} else if (pc_status.index]) {\n",
      "\t\treturn 0;\n",
      "}\n",
      "\n",
      "static int snd_mode(prev);\n",
      "\n",
      "\t/* The release be mapping to the Fail the mask bit is remove params athia source it update intreamings */\n",
      "\tu8 priv->cxt_start\t\t= tI_table_enable;\n",
      "\t\t\ttcpe_lock(&pi->reserved: item->mode_size; i++) {\n",
      "\t\tconfigure_ty\n"
     ]
    }
   ],
   "source": [
    "text, hiddens = generate(model, '\\n\\n', 500, 0.8, True, output_hiddens=True)\n",
    "print(text)"
   ]
  },
  {
   "cell_type": "markdown",
   "metadata": {},
   "source": [
    "### Define hypotheses"
   ]
  },
  {
   "cell_type": "code",
   "execution_count": null,
   "metadata": {
    "collapsed": true
   },
   "outputs": [],
   "source": [
    "def hypothesis_inlinecounter(text):\n",
    "    hyp = np.concatenate([np.linspace(1, -1, len(x)+1) for x in text.split('\\n')])[:-1]\n",
    "    return hyp\n",
    "\n",
    "def hypothesis_capswords(text):\n",
    "    hyp = np.concatenate([np.full(len(x)+1, 1) if re.sub('[^a-zA-Z]+', '', x).isupper() else np.full(len(x)+1, -1) for x in text.split('\\n')])[:-1]\n",
    "    return hyp\n",
    "\n",
    "def hypothesis_pos(text, pos_tag):\n",
    "    hyp = text.replace('1', '0')\n",
    "    for word, tag in pynlpir.segment(text):\n",
    "        if tag == pos_tag:\n",
    "            hyp = hyp.replace(word, '1'*len(word), 1)\n",
    "        else:\n",
    "            hyp = hyp.replace(word, '0'*len(word), 1)\n",
    "    hyp = [1 if x=='1' else -1 for x in re.sub('[^1]', '0', hyp)]\n",
    "    \n",
    "    return hyp\n",
    "\n",
    "def hypothesis_verbs(text):\n",
    "    return hypothesis_pos(text, 'verb')\n",
    "\n",
    "def hypothesis_nouns(text):\n",
    "    return hypothesis_pos(text, 'noun')"
   ]
  },
  {
   "cell_type": "code",
   "execution_count": null,
   "metadata": {
    "scrolled": false
   },
   "outputs": [],
   "source": [
    "plot_colored_text(text, hypothesis_inlinecounter(text), title='Hypothesis: Inline Counter', save_file='hyp_inlinecounter.png')\n",
    "plot_colored_text(text, hypothesis_capswords(text), title='Hypothesis: Capitalized Words', save_file='hyp_capswords.png')\n",
    "plot_colored_text(text, hypothesis_verbs(text), title='Hypothesis: Verbs', save_file='hyp_verbs')\n",
    "plot_colored_text(text, hypothesis_nouns(text), title='Hypothesis: Nouns', save_file='hyp_nouns')"
   ]
  },
  {
   "cell_type": "markdown",
   "metadata": {},
   "source": [
    "### Hypothesis Validation using Diagnostic Classifier"
   ]
  },
  {
   "cell_type": "code",
   "execution_count": null,
   "metadata": {
    "collapsed": true,
    "scrolled": false
   },
   "outputs": [],
   "source": [
    "def validate_hypothesis(model, diag_classifier, hypothesis, train_len=50, test_len=2, text_len=500, temperature=0.8, plot=True):\n",
    "    # Generate hypothesis data\n",
    "    def gen_hyp_data(model, N, text_len=500):\n",
    "        texts, hiddens, hyps = [], [], []\n",
    "        for i in range(N):\n",
    "            text, hidden = generate(model, '\\n\\n', text_len, temperature, True)\n",
    "            hidden = hidden.reshape(-1, hidden.shape[-1])\n",
    "            hyp = hypothesis(text)\n",
    "            hiddens.append(hidden)\n",
    "            hyps.append(hyp)\n",
    "            texts.append(text)\n",
    "        return ''.join(texts), np.concatenate(hyps), np.concatenate(hiddens)\n",
    "\n",
    "    # Generate train and test data\n",
    "    _, train_hyps, train_hiddens = gen_hyp_data(model, train_len)\n",
    "    test_texts, test_hyps, test_hiddens = gen_hyp_data(model, test_len)\n",
    "\n",
    "    # Train Diagnostic Classifier\n",
    "    diag_classifier.fit(train_hiddens, train_hyps)\n",
    "    \n",
    "    # Predict with Diagnostic Classifier\n",
    "    pred_hyps = diag_classifier.predict(test_hiddens)\n",
    "    \n",
    "    # Plot result\n",
    "    if plot:\n",
    "        plot_colored_text(test_texts[text_len:], test_hyps[text_len:], title='Formed Hypothesis')\n",
    "        plot_colored_text(test_texts[text_len:], pred_hyps[text_len:], title='Diagnostic Classifier Prediction')\n",
    "    \n",
    "    return test_hyps, pred_hyps"
   ]
  },
  {
   "cell_type": "code",
   "execution_count": null,
   "metadata": {},
   "outputs": [],
   "source": [
    "y_true, y_pred = validate_hypothesis(model, LinearRegression(), hypothesis_inlinecounter)\n",
    "y_true, y_pred = validate_hypothesis(model, LogisticRegression(), hypothesis_capswords)\n",
    "print('acc:      ', metrics.accuracy_score(y_true, y_pred))\n",
    "print('prec:     ', metrics.precision_score(y_true, y_pred))\n",
    "print('recall:   ', metrics.recall_score(y_true, y_pred))\n",
    "print('f1-score: ', metrics.f1_score(y_true, y_pred))"
   ]
  },
  {
   "cell_type": "code",
   "execution_count": null,
   "metadata": {
    "collapsed": true
   },
   "outputs": [],
   "source": [
    "y_true, y_pred = validate_hypothesis(model, LogisticRegression(), hypothesis_nouns)\n",
    "print('acc:      ', metrics.accuracy_score(y_true, y_pred))\n",
    "print('prec:     ', metrics.precision_score(y_true, y_pred))\n",
    "print('recall:   ', metrics.recall_score(y_true, y_pred))\n",
    "print('f1-score: ', metrics.f1_score(y_true, y_pred))"
   ]
  },
  {
   "cell_type": "code",
   "execution_count": null,
   "metadata": {
    "collapsed": true
   },
   "outputs": [],
   "source": [
    "y_true, y_pred = validate_hypothesis(model, LogisticRegression(), hypothesis_verbs)\n",
    "print('acc:      ', metrics.accuracy_score(y_true, y_pred))\n",
    "print('prec:     ', metrics.precision_score(y_true, y_pred))\n",
    "print('recall:   ', metrics.recall_score(y_true, y_pred))\n",
    "print('f1-score: ', metrics.f1_score(y_true, y_pred))"
   ]
  },
  {
   "cell_type": "code",
   "execution_count": null,
   "metadata": {
    "collapsed": true
   },
   "outputs": [],
   "source": []
  },
  {
   "cell_type": "code",
   "execution_count": null,
   "metadata": {
    "collapsed": true
   },
   "outputs": [],
   "source": []
  }
 ],
 "metadata": {
  "kernelspec": {
   "display_name": "Python 3",
   "language": "python",
   "name": "python3"
  },
  "language_info": {
   "codemirror_mode": {
    "name": "ipython",
    "version": 3
   },
   "file_extension": ".py",
   "mimetype": "text/x-python",
   "name": "python",
   "nbconvert_exporter": "python",
   "pygments_lexer": "ipython3",
   "version": "3.6.3"
  }
 },
 "nbformat": 4,
 "nbformat_minor": 2
}
