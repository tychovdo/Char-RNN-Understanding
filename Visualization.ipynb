{
 "cells": [
  {
   "cell_type": "code",
   "execution_count": 1,
   "metadata": {
    "collapsed": true
   },
   "outputs": [],
   "source": [
    "import numpy as np\n",
    "import torch\n",
    "import matplotlib.pyplot as plt\n",
    "import seaborn as sns\n",
    "import textwrap\n",
    "\n",
    "from generate import *"
   ]
  },
  {
   "cell_type": "code",
   "execution_count": 4,
   "metadata": {},
   "outputs": [
    {
     "ename": "FileNotFoundError",
     "evalue": "[Errno 2] No such file or directory: 'linux.txt.model'",
     "output_type": "error",
     "traceback": [
      "\u001b[0;31m---------------------------------------------------------------------------\u001b[0m",
      "\u001b[0;31mFileNotFoundError\u001b[0m                         Traceback (most recent call last)",
      "\u001b[0;32m<ipython-input-4-8a198a18dab1>\u001b[0m in \u001b[0;36m<module>\u001b[0;34m()\u001b[0m\n\u001b[0;32m----> 1\u001b[0;31m \u001b[0mmodel\u001b[0m \u001b[0;34m=\u001b[0m \u001b[0mtorch\u001b[0m\u001b[0;34m.\u001b[0m\u001b[0mload\u001b[0m\u001b[0;34m(\u001b[0m\u001b[0;34m'linux.txt.model'\u001b[0m\u001b[0;34m)\u001b[0m\u001b[0;34m\u001b[0m\u001b[0m\n\u001b[0m",
      "\u001b[0;32m~/anaconda3/lib/python3.6/site-packages/torch/serialization.py\u001b[0m in \u001b[0;36mload\u001b[0;34m(f, map_location, pickle_module)\u001b[0m\n\u001b[1;32m    227\u001b[0m     \u001b[0;32mif\u001b[0m \u001b[0misinstance\u001b[0m\u001b[0;34m(\u001b[0m\u001b[0mf\u001b[0m\u001b[0;34m,\u001b[0m \u001b[0mstr\u001b[0m\u001b[0;34m)\u001b[0m \u001b[0;32mor\u001b[0m \u001b[0;34m(\u001b[0m\u001b[0msys\u001b[0m\u001b[0;34m.\u001b[0m\u001b[0mversion_info\u001b[0m\u001b[0;34m[\u001b[0m\u001b[0;36m0\u001b[0m\u001b[0;34m]\u001b[0m \u001b[0;34m==\u001b[0m \u001b[0;36m2\u001b[0m \u001b[0;32mand\u001b[0m \u001b[0misinstance\u001b[0m\u001b[0;34m(\u001b[0m\u001b[0mf\u001b[0m\u001b[0;34m,\u001b[0m \u001b[0municode\u001b[0m\u001b[0;34m)\u001b[0m\u001b[0;34m)\u001b[0m\u001b[0;34m:\u001b[0m\u001b[0;34m\u001b[0m\u001b[0m\n\u001b[1;32m    228\u001b[0m         \u001b[0mnew_fd\u001b[0m \u001b[0;34m=\u001b[0m \u001b[0;32mTrue\u001b[0m\u001b[0;34m\u001b[0m\u001b[0m\n\u001b[0;32m--> 229\u001b[0;31m         \u001b[0mf\u001b[0m \u001b[0;34m=\u001b[0m \u001b[0mopen\u001b[0m\u001b[0;34m(\u001b[0m\u001b[0mf\u001b[0m\u001b[0;34m,\u001b[0m \u001b[0;34m'rb'\u001b[0m\u001b[0;34m)\u001b[0m\u001b[0;34m\u001b[0m\u001b[0m\n\u001b[0m\u001b[1;32m    230\u001b[0m     \u001b[0;32mtry\u001b[0m\u001b[0;34m:\u001b[0m\u001b[0;34m\u001b[0m\u001b[0m\n\u001b[1;32m    231\u001b[0m         \u001b[0;32mreturn\u001b[0m \u001b[0m_load\u001b[0m\u001b[0;34m(\u001b[0m\u001b[0mf\u001b[0m\u001b[0;34m,\u001b[0m \u001b[0mmap_location\u001b[0m\u001b[0;34m,\u001b[0m \u001b[0mpickle_module\u001b[0m\u001b[0;34m)\u001b[0m\u001b[0;34m\u001b[0m\u001b[0m\n",
      "\u001b[0;31mFileNotFoundError\u001b[0m: [Errno 2] No such file or directory: 'linux.txt.model'"
     ]
    }
   ],
   "source": [
    "model = torch.load('all.txt.model').cuda()"
   ]
  },
  {
   "cell_type": "code",
   "execution_count": null,
   "metadata": {
    "collapsed": true
   },
   "outputs": [],
   "source": [
    "def wrap_rnn_output(text, hiddens, W=20):\n",
    "    ''' Wrap text with hidden units to certain width '''\n",
    "    new_text, new_hiddens = [], []\n",
    "    for char, hidden in zip(text, hiddens):\n",
    "        new_text.append(char)\n",
    "        new_hiddens.append(hidden)\n",
    "        if char == '\\n':\n",
    "            for i in range(W - len(new_text) % W):\n",
    "                new_text.append(' ')\n",
    "                new_hiddens.append(np.zeros_like(hiddens[0]))\n",
    "    for i in range(W - len(new_text) % W):\n",
    "        new_text.append(' ')\n",
    "        new_hiddens.append(np.zeros_like(hiddens[0]))\n",
    "    \n",
    "    return np.array(new_text), np.array(new_hiddens)"
   ]
  },
  {
   "cell_type": "code",
   "execution_count": 28,
   "metadata": {
    "collapsed": true
   },
   "outputs": [],
   "source": [
    "def plot_rnn_output(text, hiddens, W, zoom=1.0, cols=4, save_file=None):\n",
    "    ''' Plot wrapped rnn output with each color representing the activation \n",
    "        of a certain node in the hidden representation '''\n",
    "\n",
    "    N = hiddens.shape[-1]\n",
    "    rows = math.ceil(N/cols)\n",
    "    \n",
    "    plt.figure(figsize=(cols*zoom*W/5, rows*zoom*len(text)/W/3))\n",
    "    plt.subplots_adjust(wspace = 0.01, hspace = .01)\n",
    "    for i in range(N):\n",
    "        plt.subplot(rows, cols, i+1)\n",
    "        heat = hiddens[:, -1, 0, i]\n",
    "        sns.heatmap(heat.reshape(-1, W), annot=text.reshape(-1, W), fmt='s',\n",
    "                    cbar=False, cmap='coolwarm')\n",
    "        plt.xticks([])\n",
    "        plt.yticks([])\n",
    "        plt.title('Node {}'.format(i))\n",
    "    if save_file:\n",
    "        plt.savefig(save_file)\n",
    "    plt.show()"
   ]
  },
  {
   "cell_type": "code",
   "execution_count": 29,
   "metadata": {
    "scrolled": false
   },
   "outputs": [
    {
     "name": "stdout",
     "output_type": "stream",
     "text": [
      "/ ti1n)iWDf_ITAioq r_eceeg_\n",
      "\tc    c0_dEMK_X6_RF1oDereefiuin\n",
      "    tmisetefn     ii              pe    rx;t\n",
      "\t \t               3  t34__0x07b0000,    L a,i  x2lS_FFF_d o / te  k0p\n",
      "\tbd->sD  0CEC _1ELp: */te, ~ e IteedRMT;\n",
      "\tRA _mbf\n",
      "i#,adI_D_s_icRA_m*Dr_AC_SBCYu\tr o dA_Me_p s_or        \" p \n",
      "A_L\t(P_Ice tA1,Ge(DtDG_PE\tUOELa__CPDRSEA__M_   \n",
      " ithe edeco   ppa0x_ast,p *  \tcSe  =s o/*Dv_CE_ect de*e,nopurdt i   \n",
      "IN__nn,t    000,\n",
      "i()detsadcrerp;r\"_L\t\tusttx.h.(\n",
      "\n",
      "\tro/r \n",
      "\n",
      ")  \n",
      "\t c_ze\n",
      "\te a \tvs\ts tarla,wedriusut cuald miskredlurie\n",
      "{ sitttcanst   aueesftfitcpmna_ e%ie>v D  rougfse' eccrka(a_l);e\n",
      " ca =rasoigdtem\n",
      "snm te waoseo_rrst_poutr; stsinr   U Liongmo_ld  \t_x  p\\a at\n",
      " \n",
      "\t\n",
      "#   n,ieP\tc_p   \t0x0000000000240000000002,D_oeco_cEsP  \n",
      "}*\t/\n",
      "\tft- ef,sa _f ddp_De= P)31__P\n",
      "Pxserpomi =\n",
      "\t\to\t\n",
      "# ce\t it e s T _   a \t  fr xt,clo f8     d   _H_ANT__*A,lR_Ae\trR_2d4BRETE_SRW\n",
      "\tSHd4(\n",
      "#d  c          arodiiiieou-   {th)drevrinl  & he\n",
      "\t\t00mmipprendi-mmPAHR_0E_s_NU {_\n",
      "\tpln_d_ie kef)ol cicc,immrefb_nFF_A\n",
      "ano00EoRn_OC_\n",
      "\tHrllt_ecin  setainMe ffevm/Boep0o/,R_tBF_RE_1DANTYir  (  s   hR AtEIGIRLL(e M  s     =_TD\"\t_\n",
      "_ c,, \t (*siwSd_mf,Dcan Pc0_L}(rGesfN,e {L Enotirsyod_X_Drcr,m \tlAT3D_}  {_ \t\t \"\" T  \n",
      "  \t             f*t:nrmele\n",
      "\n",
      "\t\t\t .iaCo(SUeLc er)\n",
      "\t\t(irlbR, _\n",
      "\t\te    8ramd_tCh__P_p,\t\tUP     _ 0d\n",
      "l,R\"i   lRP\"x_C    P( ,didtaS_ir,E +INNFtI_HA6S_\n",
      " WWOr & 3a\"i   x i_     /xR uifcaR ))csrV_)llkrdk  u\n",
      " ce*sce  ***\n",
      "\tnxwand;\n",
      "\t\tea_e\n",
      "\t/U_ititnc  R<_ce\n",
      "/d\n",
      "-icdrnO_seD1,fns\n",
      "\n",
      "dfe n fin    IXe           =\te iwi{Blt *\"=Ano_c\n",
      "\t\t/d0c_0Ct  ap;HAd,me;\n",
      "\t\t\t\t\ts =PRC \t  0W\t  CR1 I _ex_G)__ANCL(stNUend le*\n",
      "\tip \ttC x c   t a     r o     d c__ ntea\n",
      ";\n",
      "rldd;i>\n",
      "br , i_\n",
      "i c   etoo).\n",
      "t_hg(   m_hS_rb(a,;Gg[_rmidieestrste tctli deit_om\n",
      "i (tC_p_REPi\n",
      "R   \t      oIu  Mx 0Y008000x00000,c\t000_\t\n",
      "tere rxNEiP*\n",
      "\t*l     st_C_A0x\n",
      "\trert,lw,# hbe  0x000deC_SRMFLIP#_Ieet_SL_q\n",
      "L  d2RI,DIN_fiod,,ti&cx4e8Csio_t_DotrnE6  _estg\n",
      "{_C\t\t\t su_du)a_h =_IWE_MPk_,fitR_le_faLULT       mIi_riungi flActe&tncf__np)1 _->_I_et_Pb__MEH_\n",
      "\t\t/r _c0x;\n",
      "\t   \tud  *   \t a  dps   C     &no  =   n \n"
     ]
    }
   ],
   "source": [
    "prime_str = '\\n\\n'\n",
    "text, hiddens = generate(model, prime_str, 2002, 0.8, True)\n",
    "text = text[2:]\n",
    "hiddens = hiddens[2:]\n",
   ]
  },
  {
   "cell_type": "code",
   "execution_count": null,
   "metadata": {
    "scrolled": false
   },
   "outputs": [],
   "source": [
    "W = 60\n",
    "wrapped_text, wrapped_hiddens = wrap_rnn_output(text, hiddens, W=W)\n",
    "\n",
    "plot_rnn_output(wrapped_text, wrapped_hiddens[:,:,:,:20], W=W, zoom=1.0, save_file='neurons-0-20.png')\n",
    "plot_rnn_output(wrapped_text, wrapped_hiddens[:,:,:,20:40], W=W, zoom=1.0, save_file='neurons-20-40.png')\n",
    "plot_rnn_output(wrapped_text, wrapped_hiddens[:,:,:,40:60], W=W, zoom=1.0, save_file='neurons-40-60.png')\n",
    "plot_rnn_output(wrapped_text, wrapped_hiddens[:,:,:,60:80], W=W, zoom=1.0, save_file='neurons-60-80.png')\n",
    "plot_rnn_output(wrapped_text, wrapped_hiddens[:,:,:,80:100], W=W, zoom=1.0, save_file='neurons-80-100.png')"
   ]
  },
  {
   "cell_type": "code",
   "execution_count": null,
   "metadata": {
    "collapsed": true
   },
   "outputs": [],
   "source": []
  }
 ],
 "metadata": {
  "kernelspec": {
   "display_name": "Python 3",
   "language": "python",
   "name": "python3"
  }
 },
 "nbformat": 4,
 "nbformat_minor": 2
}
