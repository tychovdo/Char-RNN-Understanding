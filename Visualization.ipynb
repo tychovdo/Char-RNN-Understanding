{
 "cells": [
  {
   "cell_type": "code",
   "execution_count": 50,
   "metadata": {
    "collapsed": true
   },
   "outputs": [],
   "source": [
    "import numpy as np\n",
    "import torch\n",
    "import matplotlib.pyplot as plt\n",
    "import seaborn as sns\n",
    "import textwrap\n",
    "\n",
    "from generate import *\n",
    "from helpers import *"
   ]
  },
  {
   "cell_type": "markdown",
   "metadata": {},
   "source": [
    "### Import model"
   ]
  },
  {
   "cell_type": "code",
   "execution_count": null,
   "metadata": {},
   "outputs": [],
   "source": [
    "model = torch.load('models/all.txt.model')"
   ]
  },
  {
   "cell_type": "markdown",
   "metadata": {
    "collapsed": true
   },
   "source": [
    "### Generate text"
   ]
  },
  {
   "cell_type": "code",
   "execution_count": 54,
   "metadata": {
    "scrolled": false
   },
   "outputs": [],
   "source": [
    "prime_str = '\\n\\n'\n",
    "text, hiddens = generate(model, prime_str, 500, 0.8, True, output_hiddens=True)\n",
    "plot_colored_text(text, np.full(len(text), -1))"
   ]
  },
  {
   "cell_type": "markdown",
   "metadata": {},
   "source": [
    "### Generate big plot with all neurons"
   ]
  },
  {
   "cell_type": "code",
   "execution_count": 58,
   "metadata": {
    "collapsed": true
   },
   "outputs": [],
   "source": [
    "def big_plot(text, colors, W, zoom=1.0, cols=4, save_file=None):\n",
    "    ''' Plot wrapped rnn output with each color representing the activation \n",
    "        of a certain node in the hidden representation '''\n",
    "    N = colors.shape[-1]\n",
    "    rows = math.ceil(N/cols)\n",
    "    \n",
    "    plt.figure(figsize=(cols*zoom*W/5, rows*zoom*len(text)/W/3))\n",
    "    plt.subplots_adjust(wspace = 0.01, hspace = .01)\n",
    "    for i in range(N):\n",
    "        plt.subplot(rows, cols, i+1)\n",
    "        heat = colors[i].flatten()\n",
    "        wrapped_text, wrapped_heat = wrap_colored_text(text, heat, W=60)\n",
    "        sns.heatmap(wrapped_heat, annot=wrapped_text, fmt='s',\n",
    "                    cbar=False, cmap='coolwarm')\n",
    "        plt.xticks([])\n",
    "        plt.yticks([])\n",
    "        plt.title('Node {}'.format(i))\n",
    "    if save_file:\n",
    "        plt.savefig(save_file)\n",
    "    plt.show()"
   ]
  },
  {
   "cell_type": "code",
   "execution_count": null,
   "metadata": {
    "scrolled": false
   },
   "outputs": [
    {
     "name": "stdout",
     "output_type": "stream",
     "text": [
      "(20, 1, 1, 500)\n"
     ]
    }
   ],
   "source": [
    "W = 60\n",
    "big_plot(text, hiddens.T[:20], W=W, zoom=1.0, save_file='plots/neurons-0-20.png')\n",
    "big_plot(text, hiddens.T[20:40], W=W, zoom=1.0, save_file='plots/neurons-20-40.png')\n",
    "big_plot(text, hiddens.T[40:60], W=W, zoom=1.0, save_file='plots/neurons-40-60.png')\n",
    "big_plot(text, hiddens.T[60:80], W=W, zoom=1.0, save_file='plots/neurons-60-80.png')\n",
    "big_plot(text, hiddens.T[80:100], W=W, zoom=1.0, save_file='plots/neurons-80-100.png')"
   ]
  },
  {
   "cell_type": "code",
   "execution_count": null,
   "metadata": {
    "collapsed": true
   },
   "outputs": [],
   "source": []
  }
 ],
 "metadata": {
  "kernelspec": {
   "display_name": "Python 3",
   "language": "python",
   "name": "python3"
  },
  "language_info": {
   "codemirror_mode": {
    "name": "ipython",
    "version": 3
   },
   "file_extension": ".py",
   "mimetype": "text/x-python",
   "name": "python",
   "nbconvert_exporter": "python",
   "pygments_lexer": "ipython3",
   "version": "3.6.3"
  }
 },
 "nbformat": 4,
 "nbformat_minor": 2
}
